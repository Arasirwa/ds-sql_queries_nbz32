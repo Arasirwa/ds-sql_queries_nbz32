{
 "cells": [
  {
   "cell_type": "markdown",
   "metadata": {
    "toc": true
   },
   "source": [
    "<h1>Table of Contents<span class=\"tocSkip\"></span></h1>\n",
    "<div class=\"toc\"><ul class=\"toc-item\"><li><span><a href=\"#A-guide-to-databases-and-SQL\" data-toc-modified-id=\"A-guide-to-databases-and-SQL-1\"><span class=\"toc-item-num\">1&nbsp;&nbsp;</span>A guide to databases and SQL</a></span><ul class=\"toc-item\"><li><span><a href=\"#Learning-goals:\" data-toc-modified-id=\"Learning-goals:-1.1\"><span class=\"toc-item-num\">1.1&nbsp;&nbsp;</span>Learning goals:</a></span></li><li><span><a href=\"#Goal-1:-Summarize\" data-toc-modified-id=\"Goal-1:-Summarize-1.2\"><span class=\"toc-item-num\">1.2&nbsp;&nbsp;</span>Goal 1: Summarize</a></span><ul class=\"toc-item\"><li><span><a href=\"#What-is-a-Relational-Database?\" data-toc-modified-id=\"What-is-a-Relational-Database?-1.2.1\"><span class=\"toc-item-num\">1.2.1&nbsp;&nbsp;</span>What is a Relational Database?</a></span></li><li><span><a href=\"#POPULAR-RDBMS\" data-toc-modified-id=\"POPULAR-RDBMS-1.2.2\"><span class=\"toc-item-num\">1.2.2&nbsp;&nbsp;</span>POPULAR RDBMS</a></span></li></ul></li><li><span><a href=\"#Goal-2:-Database-Terminology\" data-toc-modified-id=\"Goal-2:-Database-Terminology-1.3\"><span class=\"toc-item-num\">1.3&nbsp;&nbsp;</span>Goal 2: Database Terminology</a></span><ul class=\"toc-item\"><li><span><a href=\"#Relational-Database-Schema\" data-toc-modified-id=\"Relational-Database-Schema-1.3.1\"><span class=\"toc-item-num\">1.3.1&nbsp;&nbsp;</span>Relational Database Schema</a></span></li><li><span><a href=\"#Table-columns-view\" data-toc-modified-id=\"Table-columns-view-1.3.2\"><span class=\"toc-item-num\">1.3.2&nbsp;&nbsp;</span>Table columns view</a></span></li><li><span><a href=\"#Terminology\" data-toc-modified-id=\"Terminology-1.3.3\"><span class=\"toc-item-num\">1.3.3&nbsp;&nbsp;</span>Terminology</a></span></li><li><span><a href=\"#SQLite\" data-toc-modified-id=\"SQLite-1.3.4\"><span class=\"toc-item-num\">1.3.4&nbsp;&nbsp;</span>SQLite</a></span></li></ul></li><li><span><a href=\"#Goal-3:-Get-going-with-sqlite!\" data-toc-modified-id=\"Goal-3:-Get-going-with-sqlite!-1.4\"><span class=\"toc-item-num\">1.4&nbsp;&nbsp;</span>Goal 3: Get going with sqlite!</a></span><ul class=\"toc-item\"><li><ul class=\"toc-item\"><li><span><a href=\"#Load-a-DB-object-with-connect-and-cursor\" data-toc-modified-id=\"Load-a-DB-object-with-connect-and-cursor-1.4.0.1\"><span class=\"toc-item-num\">1.4.0.1&nbsp;&nbsp;</span>Load a DB object with <code>connect</code> and <code>cursor</code></a></span></li><li><span><a href=\"#Use-sqlite_master-to-find-all-the-tables-in-the-schema\" data-toc-modified-id=\"Use-sqlite_master-to-find-all-the-tables-in-the-schema-1.4.0.2\"><span class=\"toc-item-num\">1.4.0.2&nbsp;&nbsp;</span>Use sqlite_master to find all the tables in the schema</a></span></li><li><span><a href=\"#Get-information-about-one-table\" data-toc-modified-id=\"Get-information-about-one-table-1.4.0.3\"><span class=\"toc-item-num\">1.4.0.3&nbsp;&nbsp;</span>Get information about one table</a></span></li><li><span><a href=\"#Use-description\" data-toc-modified-id=\"Use-description-1.4.0.4\"><span class=\"toc-item-num\">1.4.0.4&nbsp;&nbsp;</span>Use description</a></span></li><li><span><a href=\"#Making-fetch-happen\" data-toc-modified-id=\"Making-fetch-happen-1.4.0.5\"><span class=\"toc-item-num\">1.4.0.5&nbsp;&nbsp;</span>Making fetch happen</a></span></li></ul></li></ul></li><li><span><a href=\"#Goal-4:-Use-basic-SQL-commands\" data-toc-modified-id=\"Goal-4:-Use-basic-SQL-commands-1.5\"><span class=\"toc-item-num\">1.5&nbsp;&nbsp;</span>Goal 4: Use basic SQL commands</a></span><ul class=\"toc-item\"><li><span><a href=\"#Construct-SQL-queries\" data-toc-modified-id=\"Construct-SQL-queries-1.5.1\"><span class=\"toc-item-num\">1.5.1&nbsp;&nbsp;</span>Construct SQL queries</a></span><ul class=\"toc-item\"><li><span><a href=\"#Options-for-each:\" data-toc-modified-id=\"Options-for-each:-1.5.1.1\"><span class=\"toc-item-num\">1.5.1.1&nbsp;&nbsp;</span>Options for each:</a></span></li></ul></li><li><span><a href=\"#Practice\" data-toc-modified-id=\"Practice-1.5.2\"><span class=\"toc-item-num\">1.5.2&nbsp;&nbsp;</span>Practice</a></span></li><li><span><a href=\"#SQL-Joins\" data-toc-modified-id=\"SQL-Joins-1.5.3\"><span class=\"toc-item-num\">1.5.3&nbsp;&nbsp;</span>SQL Joins</a></span></li></ul></li></ul></li></ul></div>"
   ]
  },
  {
   "cell_type": "markdown",
   "metadata": {
    "slideshow": {
     "slide_type": "slide"
    }
   },
   "source": [
    "![sql](img/sql-logo.jpg)"
   ]
  },
  {
   "cell_type": "markdown",
   "metadata": {
    "slideshow": {
     "slide_type": "slide"
    }
   },
   "source": [
    "# A guide to databases and SQL"
   ]
  },
  {
   "cell_type": "markdown",
   "metadata": {
    "slideshow": {
     "slide_type": "slide"
    }
   },
   "source": [
    "Let's start with Peter Bell's great blog piece [on relational databases](https://flatironschool.com/blog/an-introduction-to-the-relational-database).\n",
    "\n",
    "Themes:\n",
    "- Structured vs. Unstructured Data\n",
    "- Records (Rows) in Tables in Databases\n",
    "- Eliminating Redundancy"
   ]
  },
  {
   "cell_type": "markdown",
   "metadata": {
    "heading_collapsed": true,
    "slideshow": {
     "slide_type": "slide"
    }
   },
   "source": [
    "## Learning goals:"
   ]
  },
  {
   "cell_type": "markdown",
   "metadata": {
    "hidden": true,
    "slideshow": {
     "slide_type": "slide"
    }
   },
   "source": [
    "- Goal 1: Summarize the use case for SQL in the data science skill set\n",
    "- Goal 2: Define key SQL terminology\n",
    "- Goal 3: Get information about DB schema and table structure\n",
    "- Goal 4: Use basic SQL commands:\n",
    "    - Construct SQL queries\n",
    "    - Use JOIN to merge tables along logical columns"
   ]
  },
  {
   "cell_type": "markdown",
   "metadata": {
    "heading_collapsed": true,
    "slideshow": {
     "slide_type": "slide"
    }
   },
   "source": [
    "## Goal 1: Summarize"
   ]
  },
  {
   "cell_type": "markdown",
   "metadata": {
    "hidden": true,
    "slideshow": {
     "slide_type": "slide"
    }
   },
   "source": [
    "[Netflix has a great article](https://medium.com/netflix-techblog/notebook-innovation-591ee3221233) describing three different data roles at their company, their different needs, and their toolsets.\n",
    "\n",
    "![netflix](img/netflix-data-roles.jpeg)\n",
    "\n",
    "Examining that graphic, SQL shows up as one of the tools of the _Data Engineer_ "
   ]
  },
  {
   "cell_type": "markdown",
   "metadata": {
    "hidden": true,
    "slideshow": {
     "slide_type": "slide"
    }
   },
   "source": [
    "Data Engineers provide the essential data architecture services that make data science possible.\n",
    "\n",
    "![hierarchy](img/ai-hierachy.png)\n",
    "\n",
    "[Source: Monica Rogati’s fantastic Medium post “The AI Hierarchy of Needs”\n",
    "](https://hackernoon.com/the-ai-hierarchy-of-needs-18f111fcc007)"
   ]
  },
  {
   "cell_type": "markdown",
   "metadata": {
    "heading_collapsed": true,
    "hidden": true,
    "slideshow": {
     "slide_type": "slide"
    }
   },
   "source": [
    "### What is a Relational Database? "
   ]
  },
  {
   "cell_type": "markdown",
   "metadata": {
    "hidden": true,
    "slideshow": {
     "slide_type": "slide"
    }
   },
   "source": [
    "![rdb](img/relational-dbms-model.png)\n",
    "[reference for image ](https://www.studytonight.com/dbms/database-model.php)"
   ]
  },
  {
   "cell_type": "markdown",
   "metadata": {
    "heading_collapsed": true,
    "hidden": true,
    "slideshow": {
     "slide_type": "slide"
    }
   },
   "source": [
    "### POPULAR RDBMS"
   ]
  },
  {
   "cell_type": "markdown",
   "metadata": {
    "hidden": true,
    "slideshow": {
     "slide_type": "slide"
    }
   },
   "source": [
    "- SQLite\n",
    "- MySQL\n",
    "- PostgreSql\n",
    "- Oracle DB\n",
    "- SQL Server"
   ]
  },
  {
   "cell_type": "markdown",
   "metadata": {
    "heading_collapsed": true,
    "slideshow": {
     "slide_type": "slide"
    }
   },
   "source": [
    "## Goal 2: Database Terminology"
   ]
  },
  {
   "cell_type": "markdown",
   "metadata": {
    "heading_collapsed": true,
    "hidden": true,
    "slideshow": {
     "slide_type": "slide"
    }
   },
   "source": [
    "### Relational Database Schema"
   ]
  },
  {
   "cell_type": "markdown",
   "metadata": {
    "hidden": true,
    "slideshow": {
     "slide_type": "slide"
    }
   },
   "source": [
    "![schema](img/MySQL_Schema_Music_Example.png)\n",
    "\n",
    "[source of image](https://database.guide/what-is-a-database-schema/)\n",
    "\n",
    "This sort of picture is sometimes called an **E**ntity **R**elationship **D**iagram. [Here](https://www.smartdraw.com/entity-relationship-diagram/) is another good resource for explaining typical ERD conventions."
   ]
  },
  {
   "cell_type": "markdown",
   "metadata": {
    "heading_collapsed": true,
    "hidden": true,
    "slideshow": {
     "slide_type": "slide"
    }
   },
   "source": [
    "### Table columns view"
   ]
  },
  {
   "cell_type": "markdown",
   "metadata": {
    "hidden": true,
    "slideshow": {
     "slide_type": "slide"
    }
   },
   "source": [
    "![table example](img/columns.png)"
   ]
  },
  {
   "cell_type": "markdown",
   "metadata": {
    "heading_collapsed": true,
    "hidden": true,
    "slideshow": {
     "slide_type": "slide"
    }
   },
   "source": [
    "### Terminology"
   ]
  },
  {
   "cell_type": "markdown",
   "metadata": {
    "hidden": true,
    "slideshow": {
     "slide_type": "slide"
    }
   },
   "source": [
    "- Schema\n",
    "- Primary Key\n",
    "- Foreign Key\n",
    "- Structured queries\n",
    "- Views"
   ]
  },
  {
   "cell_type": "markdown",
   "metadata": {
    "hidden": true,
    "slideshow": {
     "slide_type": "slide"
    }
   },
   "source": [
    "\n",
    "### SQLite"
   ]
  },
  {
   "cell_type": "markdown",
   "metadata": {
    "hidden": true,
    "slideshow": {
     "slide_type": "slide"
    }
   },
   "source": [
    "![sqlite](img/SQLite-Python.jpg)"
   ]
  },
  {
   "cell_type": "markdown",
   "metadata": {
    "hidden": true,
    "slideshow": {
     "slide_type": "slide"
    }
   },
   "source": [
    "> \"SQLite is a C library that provides a lightweight disk-based database that doesn’t require a separate server process and allows accessing the database using a nonstandard variant of the SQL query language. Some applications can use SQLite for internal data storage. It’s also possible to prototype an application using SQLite and then port the code to a larger database such as PostgreSQL or Oracle.\" - [sqlite documentation](https://docs.python.org/2/library/sqlite3.html)"
   ]
  },
  {
   "cell_type": "markdown",
   "metadata": {
    "heading_collapsed": true,
    "slideshow": {
     "slide_type": "slide"
    }
   },
   "source": [
    "## Goal 3: Get going with sqlite!"
   ]
  },
  {
   "cell_type": "code",
   "execution_count": null,
   "metadata": {
    "hidden": true,
    "slideshow": {
     "slide_type": "fragment"
    }
   },
   "outputs": [],
   "source": [
    "import sqlite3"
   ]
  },
  {
   "cell_type": "markdown",
   "metadata": {
    "heading_collapsed": true,
    "hidden": true,
    "slideshow": {
     "slide_type": "slide"
    }
   },
   "source": [
    "#### Load a DB object with `connect` and `cursor`"
   ]
  },
  {
   "cell_type": "code",
   "execution_count": null,
   "metadata": {
    "hidden": true
   },
   "outputs": [],
   "source": [
    "!ls"
   ]
  },
  {
   "cell_type": "code",
   "execution_count": null,
   "metadata": {
    "hidden": true,
    "slideshow": {
     "slide_type": "fragment"
    }
   },
   "outputs": [],
   "source": [
    "con = sqlite3.connect('flights.db')\n",
    "cursor = con.cursor()"
   ]
  },
  {
   "cell_type": "markdown",
   "metadata": {
    "heading_collapsed": true,
    "hidden": true,
    "slideshow": {
     "slide_type": "slide"
    }
   },
   "source": [
    "#### Use sqlite_master to find all the tables in the schema"
   ]
  },
  {
   "cell_type": "markdown",
   "metadata": {
    "hidden": true,
    "slideshow": {
     "slide_type": "slide"
    }
   },
   "source": [
    "Get the schema of a database from a db in sqlite"
   ]
  },
  {
   "cell_type": "code",
   "execution_count": null,
   "metadata": {
    "hidden": true
   },
   "outputs": [],
   "source": [
    "cursor.execute(\n",
    "\"\"\"\n",
    "SELECT name\n",
    "FROM sqlite_master\n",
    "WHERE type='table';\n",
    "\"\"\"\n",
    ")"
   ]
  },
  {
   "cell_type": "code",
   "execution_count": null,
   "metadata": {
    "hidden": true
   },
   "outputs": [],
   "source": [
    "cursor.fetchall()"
   ]
  },
  {
   "cell_type": "markdown",
   "metadata": {
    "hidden": true
   },
   "source": [
    "For more on \"sqlite_master\", see [here](https://www.techonthenet.com/sqlite/sys_tables/index.php)."
   ]
  },
  {
   "cell_type": "markdown",
   "metadata": {
    "heading_collapsed": true,
    "hidden": true,
    "slideshow": {
     "slide_type": "slide"
    }
   },
   "source": [
    "#### Get information about one table"
   ]
  },
  {
   "cell_type": "markdown",
   "metadata": {
    "hidden": true,
    "slideshow": {
     "slide_type": "slide"
    }
   },
   "source": [
    "> **A note about** `execute`\n",
    ">\n",
    "> Each time you use it, you reset the value of cursor"
   ]
  },
  {
   "cell_type": "code",
   "execution_count": null,
   "metadata": {
    "hidden": true
   },
   "outputs": [],
   "source": [
    "cursor.execute(\n",
    "\"\"\"\n",
    "SELECT *\n",
    "FROM airports\n",
    "\"\"\"\n",
    ")"
   ]
  },
  {
   "cell_type": "markdown",
   "metadata": {
    "heading_collapsed": true,
    "hidden": true,
    "slideshow": {
     "slide_type": "slide"
    }
   },
   "source": [
    "#### Use description"
   ]
  },
  {
   "cell_type": "code",
   "execution_count": null,
   "metadata": {
    "hidden": true,
    "scrolled": true,
    "slideshow": {
     "slide_type": "fragment"
    }
   },
   "outputs": [],
   "source": [
    "cursor.description"
   ]
  },
  {
   "cell_type": "markdown",
   "metadata": {
    "hidden": true
   },
   "source": [
    "The septuple structure has to do with Python API [compatibility issues](https://kite.com/python/docs/sqlite3.Cursor.description)."
   ]
  },
  {
   "cell_type": "markdown",
   "metadata": {
    "heading_collapsed": true,
    "hidden": true,
    "slideshow": {
     "slide_type": "slide"
    }
   },
   "source": [
    "#### Making fetch happen"
   ]
  },
  {
   "cell_type": "markdown",
   "metadata": {
    "hidden": true,
    "slideshow": {
     "slide_type": "slide"
    }
   },
   "source": [
    "`.fetchall()` is how you get the query results out of the object.\n",
    "\n",
    "You can also `.fetchone()` or `.fetchmany()`. The latter takes a number of records to return as a parameter."
   ]
  },
  {
   "cell_type": "code",
   "execution_count": null,
   "metadata": {
    "hidden": true,
    "scrolled": true
   },
   "outputs": [],
   "source": [
    "cursor.fetchmany(10)"
   ]
  },
  {
   "cell_type": "markdown",
   "metadata": {
    "hidden": true,
    "slideshow": {
     "slide_type": "slide"
    }
   },
   "source": [
    "**Task:** Get the descriptive data for airlines and routes tables"
   ]
  },
  {
   "cell_type": "code",
   "execution_count": null,
   "metadata": {
    "hidden": true
   },
   "outputs": [],
   "source": [
    "cursor.execute(\n",
    "    \"\"\"\n",
    "    SELECT *\n",
    "    FROM airlines\n",
    "    \"\"\"\n",
    ").description"
   ]
  },
  {
   "cell_type": "code",
   "execution_count": null,
   "metadata": {
    "hidden": true,
    "scrolled": true
   },
   "outputs": [],
   "source": [
    "cursor.execute(\n",
    "    \"\"\"SELECT *\n",
    "    FROM routes\n",
    "    \"\"\"\n",
    ").description"
   ]
  },
  {
   "cell_type": "markdown",
   "metadata": {
    "heading_collapsed": true,
    "slideshow": {
     "slide_type": "slide"
    }
   },
   "source": [
    "## Goal 4: Use basic SQL commands "
   ]
  },
  {
   "cell_type": "markdown",
   "metadata": {
    "hidden": true,
    "slideshow": {
     "slide_type": "slide"
    }
   },
   "source": [
    "- Construct SQL queries\n",
    "- Use JOIN to merge tables along logical columns\n",
    "- Grouping Data with SQL"
   ]
  },
  {
   "cell_type": "markdown",
   "metadata": {
    "heading_collapsed": true,
    "hidden": true,
    "slideshow": {
     "slide_type": "slide"
    }
   },
   "source": [
    "### Construct SQL queries"
   ]
  },
  {
   "cell_type": "markdown",
   "metadata": {
    "hidden": true,
    "slideshow": {
     "slide_type": "fragment"
    }
   },
   "source": [
    "**SELECT**: Which columns do you want?"
   ]
  },
  {
   "cell_type": "markdown",
   "metadata": {
    "hidden": true,
    "slideshow": {
     "slide_type": "fragment"
    }
   },
   "source": [
    "**FROM**: Which table(s) is relevant?"
   ]
  },
  {
   "cell_type": "markdown",
   "metadata": {
    "hidden": true,
    "slideshow": {
     "slide_type": "fragment"
    }
   },
   "source": [
    "**WHERE**: Filtering: Which rows do you want?"
   ]
  },
  {
   "cell_type": "markdown",
   "metadata": {
    "hidden": true
   },
   "source": [
    "(**GROUP BY / HAVING**): Do you want aggregate statistics?"
   ]
  },
  {
   "cell_type": "markdown",
   "metadata": {
    "hidden": true,
    "slideshow": {
     "slide_type": "fragment"
    }
   },
   "source": [
    "**ORDER BY**: How do you want the results to appear?"
   ]
  },
  {
   "cell_type": "markdown",
   "metadata": {
    "hidden": true,
    "slideshow": {
     "slide_type": "fragment"
    }
   },
   "source": [
    "**LIMIT**: Do you want all relevant matches?"
   ]
  },
  {
   "cell_type": "markdown",
   "metadata": {
    "heading_collapsed": true,
    "hidden": true,
    "slideshow": {
     "slide_type": "slide"
    }
   },
   "source": [
    "#### Options for each:"
   ]
  },
  {
   "cell_type": "markdown",
   "metadata": {
    "hidden": true,
    "slideshow": {
     "slide_type": "fragment"
    }
   },
   "source": [
    "**Select**:  `DISTINCT`, using `AS` to rename columns, single number aggregates, `COUNT()` to count, `*` for \"all\""
   ]
  },
  {
   "cell_type": "markdown",
   "metadata": {
    "hidden": true,
    "slideshow": {
     "slide_type": "fragment"
    }
   },
   "source": [
    "**From:** also uses aliasing with `AS`"
   ]
  },
  {
   "cell_type": "markdown",
   "metadata": {
    "hidden": true,
    "slideshow": {
     "slide_type": "fragment"
    }
   },
   "source": [
    "**Where**: `=`, `BETWEEN`, `IN`, wildcards with `%`, `AND`, `OR`, `NOT` pattern matching with `LIKE` and `ILIKE`"
   ]
  },
  {
   "cell_type": "markdown",
   "metadata": {
    "hidden": true,
    "slideshow": {
     "slide_type": "fragment"
    }
   },
   "source": [
    "**Order by**: `ASC` and `DESC`"
   ]
  },
  {
   "cell_type": "markdown",
   "metadata": {
    "hidden": true,
    "slideshow": {
     "slide_type": "fragment"
    }
   },
   "source": [
    "**Limit**:  #"
   ]
  },
  {
   "cell_type": "markdown",
   "metadata": {
    "heading_collapsed": true,
    "hidden": true,
    "slideshow": {
     "slide_type": "skip"
    }
   },
   "source": [
    "### Practice"
   ]
  },
  {
   "cell_type": "markdown",
   "metadata": {
    "hidden": true,
    "slideshow": {
     "slide_type": "slide"
    }
   },
   "source": [
    "**Tasks**:\n",
    "- Select only the names of active airlines in the United Kingdom from the airlines table. <br/>\n",
    "Hint: The values for 'active' are 'Y' and 'N'.\n",
    "- Select the unique list of countries with airports and order them alphabetically."
   ]
  },
  {
   "cell_type": "code",
   "execution_count": null,
   "metadata": {
    "hidden": true
   },
   "outputs": [],
   "source": [
    "cursor.execute(\n",
    "    \"\"\"\n",
    "    SELECT name\n",
    "    FROM airlines\n",
    "    WHERE active='Y'\n",
    "    AND country='United Kingdom'\n",
    "    \"\"\"\n",
    ").fetchall()"
   ]
  },
  {
   "cell_type": "code",
   "execution_count": null,
   "metadata": {
    "hidden": true
   },
   "outputs": [],
   "source": [
    "cursor.execute(\n",
    "    \"\"\"\n",
    "    SELECT DISTINCT country\n",
    "    FROM airports\n",
    "    ORDER BY country\n",
    "    \"\"\"\n",
    ").fetchall()"
   ]
  },
  {
   "cell_type": "markdown",
   "metadata": {
    "heading_collapsed": true,
    "hidden": true,
    "slideshow": {
     "slide_type": "slide"
    }
   },
   "source": [
    "### SQL Joins"
   ]
  },
  {
   "cell_type": "markdown",
   "metadata": {
    "hidden": true,
    "slideshow": {
     "slide_type": "fragment"
    }
   },
   "source": [
    "SQL joins can be used to both **add** data to a table and **remove** data from a table. "
   ]
  },
  {
   "cell_type": "markdown",
   "metadata": {
    "hidden": true,
    "slideshow": {
     "slide_type": "fragment"
    }
   },
   "source": [
    "![venn](img/venn.png)"
   ]
  },
  {
   "cell_type": "markdown",
   "metadata": {
    "hidden": true
   },
   "source": [
    "How are these different joins possible?\n",
    "\n",
    "Notice that I choose a column from each table \"on\" which to effect the join. This is the means by which I pair up the records from one table with the records of another.\n",
    "\n",
    "Look back up at the sample diagram under \"What is a Relational Database?\". We might use the \"student_id\" column to match up names in the names table with grades in the grades table. But what if there are values in one table's version of \"student_id\" that don't appear in the other table's version? In that case we need to let the software know whether or not we want to have *all* of the records, regardless of whether they have corresponding entries in all the tables we are joining. This makes for the variety depicted above.\n",
    "\n",
    "- If I select records from \"A INNER JOIN B\", then a record will be displayed *only if it exists in both tables*.\n",
    "\n",
    "- If I select records from \"A LEFT JOIN B\", then *all relevant records from A will be displayed*, regardless of whether they have representation in B. Records from B with no representation in A will *not* be displayed."
   ]
  },
  {
   "cell_type": "code",
   "execution_count": null,
   "metadata": {
    "hidden": true
   },
   "outputs": [],
   "source": [
    "cursor.execute(\n",
    "    \"\"\"\n",
    "    SELECT p.name, l.name, p.country\n",
    "    FROM airports p\n",
    "    LEFT JOIN airlines l\n",
    "    ON p.country=l.country\n",
    "    ORDER BY l.name\n",
    "    LIMIT 5\n",
    "    \"\"\"\n",
    ").fetchall()"
   ]
  },
  {
   "cell_type": "code",
   "execution_count": null,
   "metadata": {
    "hidden": true
   },
   "outputs": [],
   "source": [
    "cursor.execute(\n",
    "    \"\"\"\n",
    "    SELECT *\n",
    "    FROM airlines\n",
    "    WHERE country='Greenland'\n",
    "    \"\"\"\n",
    ").fetchall()"
   ]
  },
  {
   "cell_type": "code",
   "execution_count": null,
   "metadata": {
    "hidden": true
   },
   "outputs": [],
   "source": [
    "cursor.execute(\n",
    "    \"\"\"\n",
    "    SELECT p.name, l.name, p.country\n",
    "    FROM airports p\n",
    "    INNER JOIN airlines l\n",
    "    ON p.country=l.country\n",
    "    ORDER BY l.name\n",
    "    LIMIT 5\n",
    "    \"\"\"\n",
    ").fetchall()"
   ]
  }
 ],
 "metadata": {
  "kernelspec": {
   "display_name": "Python 3",
   "language": "python",
   "name": "python3"
  },
  "language_info": {
   "codemirror_mode": {
    "name": "ipython",
    "version": 3
   },
   "file_extension": ".py",
   "mimetype": "text/x-python",
   "name": "python",
   "nbconvert_exporter": "python",
   "pygments_lexer": "ipython3",
   "version": "3.8.5"
  },
  "toc": {
   "base_numbering": 1,
   "nav_menu": {},
   "number_sections": true,
   "sideBar": true,
   "skip_h1_title": false,
   "title_cell": "Table of Contents",
   "title_sidebar": "TOC",
   "toc_cell": true,
   "toc_position": {
    "height": "calc(100% - 180px)",
    "left": "10px",
    "top": "150px",
    "width": "380px"
   },
   "toc_section_display": true,
   "toc_window_display": true
  }
 },
 "nbformat": 4,
 "nbformat_minor": 2
}
